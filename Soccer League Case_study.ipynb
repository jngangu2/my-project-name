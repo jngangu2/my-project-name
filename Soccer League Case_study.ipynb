{
 "cells": [
  {
   "cell_type": "markdown",
   "id": "7ea352c4-6778-428f-b4fb-b3038e30221a",
   "metadata": {},
   "source": [
    "# Top 5 Leagues(Soccer) Case Study"
   ]
  },
  {
   "cell_type": "raw",
   "id": "78d6081f-d162-4fd0-9e7e-cfdde22deb52",
   "metadata": {},
   "source": [
    "By: Job Monita"
   ]
  },
  {
   "cell_type": "markdown",
   "id": "50590438-5619-41d4-a7b8-a80963097fc2",
   "metadata": {},
   "source": [
    "Data source from: https://www.kaggle.com/datasets/oles04/top-leagues-player"
   ]
  },
  {
   "cell_type": "raw",
   "id": "d58de09f-539d-4eba-905e-e142f880a21f",
   "metadata": {},
   "source": [
    "The dataset used in this case study is all about soccer, soccer that is considered the most popular sport in the world, with over 3.5 billion fans worldwidetop. This dataset containt the 5 top soccer leagues in the Europe, which are the English Premier League, Spanish La Liga, German Bundesliga, Italian Serie A, and French Ligue 1. My choice about this dataset came from my biggest passion about soccer, I have always been a huge fan of soccer since i was a kid."
   ]
  },
  {
   "cell_type": "markdown",
   "id": "4dc0628d-00fc-43e8-bc1b-8f8859359333",
   "metadata": {},
   "source": [
    "### Questions to consider"
   ]
  },
  {
   "cell_type": "raw",
   "id": "adb36da3-33ab-4ed1-a897-0f652fe175e6",
   "metadata": {},
   "source": [
    "1. who is the most expensives players in all league?\n",
    "2. which nationality has the most player in all league?"
   ]
  },
  {
   "cell_type": "markdown",
   "id": "cae22c87-c3d2-4c96-89bd-cd63e0f7f04c",
   "metadata": {},
   "source": [
    "## Exploratory Data Analysis"
   ]
  },
  {
   "cell_type": "code",
   "execution_count": 78,
   "id": "d82b5041-fa93-4952-aa48-033b4231fd18",
   "metadata": {},
   "outputs": [],
   "source": [
    "import pandas as pd\n",
    "import matplotlib\n",
    "import matplotlib.pyplot as plt\n",
    "import numpy as np\n",
    "import plotly.express as px\n",
    "import plotly.graph_objects as go\n"
   ]
  },
  {
   "cell_type": "code",
   "execution_count": 80,
   "id": "8fa64571-f8df-404a-a1fe-ffd66b00a30c",
   "metadata": {},
   "outputs": [],
   "source": [
    "df = pd.read_csv(\"Downloads/top5_leagues_player.csv\")"
   ]
  },
  {
   "cell_type": "code",
   "execution_count": 82,
   "id": "f1e05649-eccd-449c-a623-83f3e2bd8718",
   "metadata": {},
   "outputs": [
    {
     "data": {
      "text/html": [
       "<div>\n",
       "<style scoped>\n",
       "    .dataframe tbody tr th:only-of-type {\n",
       "        vertical-align: middle;\n",
       "    }\n",
       "\n",
       "    .dataframe tbody tr th {\n",
       "        vertical-align: top;\n",
       "    }\n",
       "\n",
       "    .dataframe thead th {\n",
       "        text-align: right;\n",
       "    }\n",
       "</style>\n",
       "<table border=\"1\" class=\"dataframe\">\n",
       "  <thead>\n",
       "    <tr style=\"text-align: right;\">\n",
       "      <th></th>\n",
       "      <th>Unnamed: 0</th>\n",
       "      <th>name</th>\n",
       "      <th>full_name</th>\n",
       "      <th>age</th>\n",
       "      <th>height</th>\n",
       "      <th>nationality</th>\n",
       "      <th>place_of_birth</th>\n",
       "      <th>price</th>\n",
       "      <th>max_price</th>\n",
       "      <th>position</th>\n",
       "      <th>shirt_nr</th>\n",
       "      <th>foot</th>\n",
       "      <th>club</th>\n",
       "      <th>contract_expires</th>\n",
       "      <th>joined_club</th>\n",
       "      <th>player_agent</th>\n",
       "      <th>outfitter</th>\n",
       "      <th>league</th>\n",
       "    </tr>\n",
       "  </thead>\n",
       "  <tbody>\n",
       "    <tr>\n",
       "      <th>0</th>\n",
       "      <td>0</td>\n",
       "      <td>Ederson</td>\n",
       "      <td>NaN</td>\n",
       "      <td>29</td>\n",
       "      <td>1.88</td>\n",
       "      <td>Brazil  Portugal</td>\n",
       "      <td>Osasco (SP)</td>\n",
       "      <td>45.00</td>\n",
       "      <td>70.0</td>\n",
       "      <td>Goalkeeper</td>\n",
       "      <td>31</td>\n",
       "      <td>left</td>\n",
       "      <td>Man City</td>\n",
       "      <td>2026-06-30</td>\n",
       "      <td>2017-07-01</td>\n",
       "      <td>Gestifute</td>\n",
       "      <td>Puma</td>\n",
       "      <td>EPL</td>\n",
       "    </tr>\n",
       "    <tr>\n",
       "      <th>1</th>\n",
       "      <td>1</td>\n",
       "      <td>Stefan Ortega</td>\n",
       "      <td>Stefan Ortega Moreno</td>\n",
       "      <td>30</td>\n",
       "      <td>1.85</td>\n",
       "      <td>Germany  Spain</td>\n",
       "      <td>Hofgeismar</td>\n",
       "      <td>6.00</td>\n",
       "      <td>6.0</td>\n",
       "      <td>Goalkeeper</td>\n",
       "      <td>18</td>\n",
       "      <td>right</td>\n",
       "      <td>Man City</td>\n",
       "      <td>2025-06-30</td>\n",
       "      <td>2022-07-01</td>\n",
       "      <td>neblung ...</td>\n",
       "      <td>NaN</td>\n",
       "      <td>EPL</td>\n",
       "    </tr>\n",
       "    <tr>\n",
       "      <th>2</th>\n",
       "      <td>2</td>\n",
       "      <td>Scott Carson</td>\n",
       "      <td>Scott Paul Carson</td>\n",
       "      <td>37</td>\n",
       "      <td>1.88</td>\n",
       "      <td>England</td>\n",
       "      <td>Whitehaven</td>\n",
       "      <td>0.25</td>\n",
       "      <td>6.0</td>\n",
       "      <td>Goalkeeper</td>\n",
       "      <td>33</td>\n",
       "      <td>right</td>\n",
       "      <td>Man City</td>\n",
       "      <td>2023-06-30</td>\n",
       "      <td>2021-07-20</td>\n",
       "      <td>Wasserman</td>\n",
       "      <td>Puma</td>\n",
       "      <td>EPL</td>\n",
       "    </tr>\n",
       "    <tr>\n",
       "      <th>3</th>\n",
       "      <td>3</td>\n",
       "      <td>Rúben Dias</td>\n",
       "      <td>Rúben Santos Gato Alves Dias</td>\n",
       "      <td>26</td>\n",
       "      <td>1.87</td>\n",
       "      <td>Portugal</td>\n",
       "      <td>Amadora</td>\n",
       "      <td>75.00</td>\n",
       "      <td>75.0</td>\n",
       "      <td>Defender - Centre-Back</td>\n",
       "      <td>3</td>\n",
       "      <td>right</td>\n",
       "      <td>Man City</td>\n",
       "      <td>2027-06-30</td>\n",
       "      <td>2020-09-29</td>\n",
       "      <td>Gestifute</td>\n",
       "      <td>Nike</td>\n",
       "      <td>EPL</td>\n",
       "    </tr>\n",
       "    <tr>\n",
       "      <th>4</th>\n",
       "      <td>4</td>\n",
       "      <td>Nathan Aké</td>\n",
       "      <td>Nathan Benjamin Aké</td>\n",
       "      <td>28</td>\n",
       "      <td>1.80</td>\n",
       "      <td>Netherlands  Cote d'Ivoire</td>\n",
       "      <td>Den Haag</td>\n",
       "      <td>35.00</td>\n",
       "      <td>40.0</td>\n",
       "      <td>Defender - Centre-Back</td>\n",
       "      <td>6</td>\n",
       "      <td>left</td>\n",
       "      <td>Man City</td>\n",
       "      <td>2025-06-30</td>\n",
       "      <td>2020-08-05</td>\n",
       "      <td>Wasserman</td>\n",
       "      <td>Nike</td>\n",
       "      <td>EPL</td>\n",
       "    </tr>\n",
       "    <tr>\n",
       "      <th>5</th>\n",
       "      <td>5</td>\n",
       "      <td>John Stones</td>\n",
       "      <td>NaN</td>\n",
       "      <td>28</td>\n",
       "      <td>1.88</td>\n",
       "      <td>England</td>\n",
       "      <td>Barnsley</td>\n",
       "      <td>30.00</td>\n",
       "      <td>60.0</td>\n",
       "      <td>Defender - Centre-Back</td>\n",
       "      <td>5</td>\n",
       "      <td>right</td>\n",
       "      <td>Man City</td>\n",
       "      <td>2026-06-30</td>\n",
       "      <td>2016-08-09</td>\n",
       "      <td>Wasserman</td>\n",
       "      <td>Nike</td>\n",
       "      <td>EPL</td>\n",
       "    </tr>\n",
       "    <tr>\n",
       "      <th>6</th>\n",
       "      <td>6</td>\n",
       "      <td>Aymeric Laporte</td>\n",
       "      <td>Aymeric Jean Louis Gerard Alphonse Laporte</td>\n",
       "      <td>28</td>\n",
       "      <td>1.89</td>\n",
       "      <td>Spain  France</td>\n",
       "      <td>Agen</td>\n",
       "      <td>30.00</td>\n",
       "      <td>75.0</td>\n",
       "      <td>Defender - Centre-Back</td>\n",
       "      <td>14</td>\n",
       "      <td>left</td>\n",
       "      <td>Man City</td>\n",
       "      <td>2025-06-30</td>\n",
       "      <td>2018-01-30</td>\n",
       "      <td>NaN</td>\n",
       "      <td>adidas</td>\n",
       "      <td>EPL</td>\n",
       "    </tr>\n",
       "    <tr>\n",
       "      <th>7</th>\n",
       "      <td>7</td>\n",
       "      <td>Manuel Akanji</td>\n",
       "      <td>Manuel Obafemi Akanji</td>\n",
       "      <td>27</td>\n",
       "      <td>1.88</td>\n",
       "      <td>Switzerland  Nigeria</td>\n",
       "      <td>Wiesendangen</td>\n",
       "      <td>30.00</td>\n",
       "      <td>40.0</td>\n",
       "      <td>Defender - Centre-Back</td>\n",
       "      <td>25</td>\n",
       "      <td>right</td>\n",
       "      <td>Man City</td>\n",
       "      <td>2027-06-30</td>\n",
       "      <td>2022-09-01</td>\n",
       "      <td>IFM</td>\n",
       "      <td>Nike</td>\n",
       "      <td>EPL</td>\n",
       "    </tr>\n",
       "    <tr>\n",
       "      <th>8</th>\n",
       "      <td>8</td>\n",
       "      <td>Sergio Gómez</td>\n",
       "      <td>Sergio Gómez Martín</td>\n",
       "      <td>22</td>\n",
       "      <td>1.71</td>\n",
       "      <td>Spain</td>\n",
       "      <td>Badalona</td>\n",
       "      <td>15.00</td>\n",
       "      <td>15.0</td>\n",
       "      <td>Defender - Left-Back</td>\n",
       "      <td>21</td>\n",
       "      <td>left</td>\n",
       "      <td>Man City</td>\n",
       "      <td>2026-06-30</td>\n",
       "      <td>2022-08-16</td>\n",
       "      <td>SEG</td>\n",
       "      <td>NaN</td>\n",
       "      <td>EPL</td>\n",
       "    </tr>\n",
       "    <tr>\n",
       "      <th>9</th>\n",
       "      <td>9</td>\n",
       "      <td>Benjamin Mendy</td>\n",
       "      <td>NaN</td>\n",
       "      <td>28</td>\n",
       "      <td>1.85</td>\n",
       "      <td>France  Senegal</td>\n",
       "      <td>Longjumeau</td>\n",
       "      <td>NaN</td>\n",
       "      <td>45.0</td>\n",
       "      <td>Defender - Left-Back</td>\n",
       "      <td>22</td>\n",
       "      <td>left</td>\n",
       "      <td>Man City</td>\n",
       "      <td>2023-06-30</td>\n",
       "      <td>2017-07-24</td>\n",
       "      <td>Sport Cover</td>\n",
       "      <td>adidas</td>\n",
       "      <td>EPL</td>\n",
       "    </tr>\n",
       "  </tbody>\n",
       "</table>\n",
       "</div>"
      ],
      "text/plain": [
       "   Unnamed: 0             name                                   full_name  \\\n",
       "0           0          Ederson                                         NaN   \n",
       "1           1    Stefan Ortega                        Stefan Ortega Moreno   \n",
       "2           2     Scott Carson                           Scott Paul Carson   \n",
       "3           3       Rúben Dias                Rúben Santos Gato Alves Dias   \n",
       "4           4       Nathan Aké                         Nathan Benjamin Aké   \n",
       "5           5      John Stones                                         NaN   \n",
       "6           6  Aymeric Laporte  Aymeric Jean Louis Gerard Alphonse Laporte   \n",
       "7           7    Manuel Akanji                       Manuel Obafemi Akanji   \n",
       "8           8     Sergio Gómez                         Sergio Gómez Martín   \n",
       "9           9   Benjamin Mendy                                         NaN   \n",
       "\n",
       "   age  height                 nationality place_of_birth  price  max_price  \\\n",
       "0   29    1.88            Brazil  Portugal    Osasco (SP)  45.00       70.0   \n",
       "1   30    1.85              Germany  Spain     Hofgeismar   6.00        6.0   \n",
       "2   37    1.88                     England     Whitehaven   0.25        6.0   \n",
       "3   26    1.87                    Portugal        Amadora  75.00       75.0   \n",
       "4   28    1.80  Netherlands  Cote d'Ivoire       Den Haag  35.00       40.0   \n",
       "5   28    1.88                     England       Barnsley  30.00       60.0   \n",
       "6   28    1.89               Spain  France           Agen  30.00       75.0   \n",
       "7   27    1.88        Switzerland  Nigeria   Wiesendangen  30.00       40.0   \n",
       "8   22    1.71                       Spain       Badalona  15.00       15.0   \n",
       "9   28    1.85             France  Senegal     Longjumeau    NaN       45.0   \n",
       "\n",
       "                 position  shirt_nr   foot      club contract_expires  \\\n",
       "0              Goalkeeper        31   left  Man City       2026-06-30   \n",
       "1              Goalkeeper        18  right  Man City       2025-06-30   \n",
       "2              Goalkeeper        33  right  Man City       2023-06-30   \n",
       "3  Defender - Centre-Back         3  right  Man City       2027-06-30   \n",
       "4  Defender - Centre-Back         6   left  Man City       2025-06-30   \n",
       "5  Defender - Centre-Back         5  right  Man City       2026-06-30   \n",
       "6  Defender - Centre-Back        14   left  Man City       2025-06-30   \n",
       "7  Defender - Centre-Back        25  right  Man City       2027-06-30   \n",
       "8    Defender - Left-Back        21   left  Man City       2026-06-30   \n",
       "9    Defender - Left-Back        22   left  Man City       2023-06-30   \n",
       "\n",
       "  joined_club player_agent outfitter league  \n",
       "0  2017-07-01    Gestifute      Puma    EPL  \n",
       "1  2022-07-01  neblung ...       NaN    EPL  \n",
       "2  2021-07-20    Wasserman      Puma    EPL  \n",
       "3  2020-09-29    Gestifute      Nike    EPL  \n",
       "4  2020-08-05    Wasserman      Nike    EPL  \n",
       "5  2016-08-09    Wasserman      Nike    EPL  \n",
       "6  2018-01-30          NaN    adidas    EPL  \n",
       "7  2022-09-01          IFM      Nike    EPL  \n",
       "8  2022-08-16          SEG       NaN    EPL  \n",
       "9  2017-07-24  Sport Cover    adidas    EPL  "
      ]
     },
     "execution_count": 82,
     "metadata": {},
     "output_type": "execute_result"
    }
   ],
   "source": [
    "df.head(10)"
   ]
  },
  {
   "cell_type": "code",
   "execution_count": 84,
   "id": "4137200e-66e3-46d0-8848-5d79757c5009",
   "metadata": {},
   "outputs": [
    {
     "data": {
      "text/html": [
       "<div>\n",
       "<style scoped>\n",
       "    .dataframe tbody tr th:only-of-type {\n",
       "        vertical-align: middle;\n",
       "    }\n",
       "\n",
       "    .dataframe tbody tr th {\n",
       "        vertical-align: top;\n",
       "    }\n",
       "\n",
       "    .dataframe thead th {\n",
       "        text-align: right;\n",
       "    }\n",
       "</style>\n",
       "<table border=\"1\" class=\"dataframe\">\n",
       "  <thead>\n",
       "    <tr style=\"text-align: right;\">\n",
       "      <th></th>\n",
       "      <th>Unnamed: 0</th>\n",
       "      <th>name</th>\n",
       "      <th>full_name</th>\n",
       "      <th>age</th>\n",
       "      <th>height</th>\n",
       "      <th>nationality</th>\n",
       "      <th>place_of_birth</th>\n",
       "      <th>price</th>\n",
       "      <th>max_price</th>\n",
       "      <th>position</th>\n",
       "      <th>shirt_nr</th>\n",
       "      <th>foot</th>\n",
       "      <th>club</th>\n",
       "      <th>contract_expires</th>\n",
       "      <th>joined_club</th>\n",
       "      <th>player_agent</th>\n",
       "      <th>outfitter</th>\n",
       "      <th>league</th>\n",
       "    </tr>\n",
       "  </thead>\n",
       "  <tbody>\n",
       "    <tr>\n",
       "      <th>2602</th>\n",
       "      <td>2602</td>\n",
       "      <td>Kevin Spadanuda</td>\n",
       "      <td>NaN</td>\n",
       "      <td>26</td>\n",
       "      <td>1.77</td>\n",
       "      <td>Switzerland  Italy</td>\n",
       "      <td>Bülach</td>\n",
       "      <td>0.80</td>\n",
       "      <td>0.80</td>\n",
       "      <td>Attack - Left Winger</td>\n",
       "      <td>27</td>\n",
       "      <td>right</td>\n",
       "      <td>AC Ajaccio</td>\n",
       "      <td>2025-06-30</td>\n",
       "      <td>2022-07-01</td>\n",
       "      <td>Soccer Mondial AG</td>\n",
       "      <td>NaN</td>\n",
       "      <td>Other</td>\n",
       "    </tr>\n",
       "    <tr>\n",
       "      <th>2603</th>\n",
       "      <td>2603</td>\n",
       "      <td>Jean Botué</td>\n",
       "      <td>Kouame Jean Fiacre Botué</td>\n",
       "      <td>20</td>\n",
       "      <td>1.84</td>\n",
       "      <td>Burkina Faso</td>\n",
       "      <td>Marcory</td>\n",
       "      <td>0.50</td>\n",
       "      <td>0.90</td>\n",
       "      <td>Attack - Left Winger</td>\n",
       "      <td>18</td>\n",
       "      <td>left</td>\n",
       "      <td>AC Ajaccio</td>\n",
       "      <td>2023-06-30</td>\n",
       "      <td>2021-02-16</td>\n",
       "      <td>SVF FOOT</td>\n",
       "      <td>NaN</td>\n",
       "      <td>Other</td>\n",
       "    </tr>\n",
       "    <tr>\n",
       "      <th>2604</th>\n",
       "      <td>2604</td>\n",
       "      <td>Cyrille Bayala</td>\n",
       "      <td>Cyrille Barros Bayala</td>\n",
       "      <td>26</td>\n",
       "      <td>1.81</td>\n",
       "      <td>Burkina Faso</td>\n",
       "      <td>Ouagadougou</td>\n",
       "      <td>1.00</td>\n",
       "      <td>1.00</td>\n",
       "      <td>Attack - Right Winger</td>\n",
       "      <td>14</td>\n",
       "      <td>right</td>\n",
       "      <td>AC Ajaccio</td>\n",
       "      <td>2024-06-30</td>\n",
       "      <td>2021-01-15</td>\n",
       "      <td>SVF FOOT</td>\n",
       "      <td>NaN</td>\n",
       "      <td>Other</td>\n",
       "    </tr>\n",
       "    <tr>\n",
       "      <th>2605</th>\n",
       "      <td>2605</td>\n",
       "      <td>Riad Nouri</td>\n",
       "      <td>NaN</td>\n",
       "      <td>37</td>\n",
       "      <td>1.78</td>\n",
       "      <td>France  Algeria</td>\n",
       "      <td>Marseille</td>\n",
       "      <td>0.25</td>\n",
       "      <td>0.70</td>\n",
       "      <td>Attack - Right Winger</td>\n",
       "      <td>5</td>\n",
       "      <td>right</td>\n",
       "      <td>AC Ajaccio</td>\n",
       "      <td>2024-06-30</td>\n",
       "      <td>2020-09-07</td>\n",
       "      <td>Just 4 player Group</td>\n",
       "      <td>NaN</td>\n",
       "      <td>Other</td>\n",
       "    </tr>\n",
       "    <tr>\n",
       "      <th>2606</th>\n",
       "      <td>2606</td>\n",
       "      <td>Ruan Levine</td>\n",
       "      <td>NaN</td>\n",
       "      <td>24</td>\n",
       "      <td>1.77</td>\n",
       "      <td>Brazil</td>\n",
       "      <td>NaN</td>\n",
       "      <td>0.10</td>\n",
       "      <td>0.10</td>\n",
       "      <td>Attack - Right Winger</td>\n",
       "      <td>24</td>\n",
       "      <td>right</td>\n",
       "      <td>AC Ajaccio</td>\n",
       "      <td>2023-06-30</td>\n",
       "      <td>2022-09-20</td>\n",
       "      <td>Talents Sports</td>\n",
       "      <td>NaN</td>\n",
       "      <td>Other</td>\n",
       "    </tr>\n",
       "    <tr>\n",
       "      <th>2607</th>\n",
       "      <td>2607</td>\n",
       "      <td>Moussa Djitté</td>\n",
       "      <td>Moussa Kalilou Djitté</td>\n",
       "      <td>23</td>\n",
       "      <td>1.80</td>\n",
       "      <td>Senegal</td>\n",
       "      <td>Diattouma</td>\n",
       "      <td>2.00</td>\n",
       "      <td>2.00</td>\n",
       "      <td>Attack - Centre-Forward</td>\n",
       "      <td>28</td>\n",
       "      <td>right</td>\n",
       "      <td>AC Ajaccio</td>\n",
       "      <td>2023-06-30</td>\n",
       "      <td>2023-01-31</td>\n",
       "      <td>FS Management</td>\n",
       "      <td>NaN</td>\n",
       "      <td>Other</td>\n",
       "    </tr>\n",
       "    <tr>\n",
       "      <th>2608</th>\n",
       "      <td>2608</td>\n",
       "      <td>Mounaïm El Idrissy</td>\n",
       "      <td>منعم الإدريسي</td>\n",
       "      <td>24</td>\n",
       "      <td>1.81</td>\n",
       "      <td>France  Morocco</td>\n",
       "      <td>Martigues</td>\n",
       "      <td>1.80</td>\n",
       "      <td>1.80</td>\n",
       "      <td>Attack - Centre-Forward</td>\n",
       "      <td>7</td>\n",
       "      <td>right</td>\n",
       "      <td>AC Ajaccio</td>\n",
       "      <td>2023-06-30</td>\n",
       "      <td>2019-07-01</td>\n",
       "      <td>N.Agency</td>\n",
       "      <td>NaN</td>\n",
       "      <td>Other</td>\n",
       "    </tr>\n",
       "    <tr>\n",
       "      <th>2609</th>\n",
       "      <td>2609</td>\n",
       "      <td>Moussa Soumano</td>\n",
       "      <td>NaN</td>\n",
       "      <td>17</td>\n",
       "      <td>NaN</td>\n",
       "      <td>France  Mali</td>\n",
       "      <td>NaN</td>\n",
       "      <td>0.90</td>\n",
       "      <td>0.90</td>\n",
       "      <td>Attack - Centre-Forward</td>\n",
       "      <td>34</td>\n",
       "      <td>NaN</td>\n",
       "      <td>AC Ajaccio</td>\n",
       "      <td>2026-06-30</td>\n",
       "      <td>2023-01-01</td>\n",
       "      <td>NaN</td>\n",
       "      <td>NaN</td>\n",
       "      <td>Other</td>\n",
       "    </tr>\n",
       "    <tr>\n",
       "      <th>2610</th>\n",
       "      <td>2610</td>\n",
       "      <td>Romain Hamouma</td>\n",
       "      <td>NaN</td>\n",
       "      <td>36</td>\n",
       "      <td>1.79</td>\n",
       "      <td>France  Algeria</td>\n",
       "      <td>Montbéliard</td>\n",
       "      <td>0.60</td>\n",
       "      <td>7.00</td>\n",
       "      <td>Attack - Centre-Forward</td>\n",
       "      <td>17</td>\n",
       "      <td>right</td>\n",
       "      <td>AC Ajaccio</td>\n",
       "      <td>2023-06-30</td>\n",
       "      <td>2022-07-01</td>\n",
       "      <td>Gallea Gestion S.A</td>\n",
       "      <td>NaN</td>\n",
       "      <td>Other</td>\n",
       "    </tr>\n",
       "    <tr>\n",
       "      <th>2611</th>\n",
       "      <td>2611</td>\n",
       "      <td>Yoann Touzghar</td>\n",
       "      <td>NaN</td>\n",
       "      <td>36</td>\n",
       "      <td>1.80</td>\n",
       "      <td>Tunisia  France</td>\n",
       "      <td>Avignon</td>\n",
       "      <td>0.50</td>\n",
       "      <td>1.75</td>\n",
       "      <td>Attack - Centre-Forward</td>\n",
       "      <td>9</td>\n",
       "      <td>right</td>\n",
       "      <td>AC Ajaccio</td>\n",
       "      <td>2024-06-30</td>\n",
       "      <td>2022-08-24</td>\n",
       "      <td>AGJ SP MGMT</td>\n",
       "      <td>NaN</td>\n",
       "      <td>Other</td>\n",
       "    </tr>\n",
       "  </tbody>\n",
       "</table>\n",
       "</div>"
      ],
      "text/plain": [
       "      Unnamed: 0                name                 full_name  age  height  \\\n",
       "2602        2602     Kevin Spadanuda                       NaN   26    1.77   \n",
       "2603        2603          Jean Botué  Kouame Jean Fiacre Botué   20    1.84   \n",
       "2604        2604      Cyrille Bayala     Cyrille Barros Bayala   26    1.81   \n",
       "2605        2605          Riad Nouri                       NaN   37    1.78   \n",
       "2606        2606         Ruan Levine                       NaN   24    1.77   \n",
       "2607        2607       Moussa Djitté     Moussa Kalilou Djitté   23    1.80   \n",
       "2608        2608  Mounaïm El Idrissy             منعم الإدريسي   24    1.81   \n",
       "2609        2609      Moussa Soumano                       NaN   17     NaN   \n",
       "2610        2610      Romain Hamouma                       NaN   36    1.79   \n",
       "2611        2611      Yoann Touzghar                       NaN   36    1.80   \n",
       "\n",
       "             nationality place_of_birth  price  max_price  \\\n",
       "2602  Switzerland  Italy         Bülach   0.80       0.80   \n",
       "2603        Burkina Faso        Marcory   0.50       0.90   \n",
       "2604        Burkina Faso    Ouagadougou   1.00       1.00   \n",
       "2605     France  Algeria      Marseille   0.25       0.70   \n",
       "2606              Brazil            NaN   0.10       0.10   \n",
       "2607             Senegal      Diattouma   2.00       2.00   \n",
       "2608     France  Morocco      Martigues   1.80       1.80   \n",
       "2609        France  Mali            NaN   0.90       0.90   \n",
       "2610     France  Algeria    Montbéliard   0.60       7.00   \n",
       "2611     Tunisia  France        Avignon   0.50       1.75   \n",
       "\n",
       "                     position  shirt_nr   foot        club contract_expires  \\\n",
       "2602     Attack - Left Winger        27  right  AC Ajaccio       2025-06-30   \n",
       "2603     Attack - Left Winger        18   left  AC Ajaccio       2023-06-30   \n",
       "2604    Attack - Right Winger        14  right  AC Ajaccio       2024-06-30   \n",
       "2605    Attack - Right Winger         5  right  AC Ajaccio       2024-06-30   \n",
       "2606    Attack - Right Winger        24  right  AC Ajaccio       2023-06-30   \n",
       "2607  Attack - Centre-Forward        28  right  AC Ajaccio       2023-06-30   \n",
       "2608  Attack - Centre-Forward         7  right  AC Ajaccio       2023-06-30   \n",
       "2609  Attack - Centre-Forward        34    NaN  AC Ajaccio       2026-06-30   \n",
       "2610  Attack - Centre-Forward        17  right  AC Ajaccio       2023-06-30   \n",
       "2611  Attack - Centre-Forward         9  right  AC Ajaccio       2024-06-30   \n",
       "\n",
       "     joined_club         player_agent outfitter league  \n",
       "2602  2022-07-01    Soccer Mondial AG       NaN  Other  \n",
       "2603  2021-02-16             SVF FOOT       NaN  Other  \n",
       "2604  2021-01-15             SVF FOOT       NaN  Other  \n",
       "2605  2020-09-07  Just 4 player Group       NaN  Other  \n",
       "2606  2022-09-20       Talents Sports       NaN  Other  \n",
       "2607  2023-01-31        FS Management       NaN  Other  \n",
       "2608  2019-07-01             N.Agency       NaN  Other  \n",
       "2609  2023-01-01                  NaN       NaN  Other  \n",
       "2610  2022-07-01   Gallea Gestion S.A       NaN  Other  \n",
       "2611  2022-08-24          AGJ SP MGMT       NaN  Other  "
      ]
     },
     "execution_count": 84,
     "metadata": {},
     "output_type": "execute_result"
    }
   ],
   "source": [
    "df.tail(10)"
   ]
  },
  {
   "cell_type": "code",
   "execution_count": 86,
   "id": "8047cb10-d773-4331-a101-3573d34db882",
   "metadata": {},
   "outputs": [],
   "source": [
    "num_rows = df.shape[0]\n",
    "num_cols = df.shape[1]"
   ]
  },
  {
   "cell_type": "code",
   "execution_count": 88,
   "id": "68cbdb61-9965-44be-a684-6508c315b569",
   "metadata": {},
   "outputs": [
    {
     "name": "stdout",
     "output_type": "stream",
     "text": [
      "Number of rows: 2612\n",
      "Number of columns: 18\n"
     ]
    }
   ],
   "source": [
    "print(f\"Number of rows: {num_rows}\")\n",
    "print(f\"Number of columns: {num_cols}\")"
   ]
  },
  {
   "cell_type": "code",
   "execution_count": 90,
   "id": "0b64e2df-5b18-4228-8107-218eed5401b7",
   "metadata": {},
   "outputs": [
    {
     "name": "stdout",
     "output_type": "stream",
     "text": [
      "<class 'pandas.core.frame.DataFrame'>\n",
      "RangeIndex: 2612 entries, 0 to 2611\n",
      "Data columns (total 18 columns):\n",
      " #   Column            Non-Null Count  Dtype  \n",
      "---  ------            --------------  -----  \n",
      " 0   Unnamed: 0        2612 non-null   int64  \n",
      " 1   name              2612 non-null   object \n",
      " 2   full_name         1480 non-null   object \n",
      " 3   age               2612 non-null   int64  \n",
      " 4   height            2601 non-null   float64\n",
      " 5   nationality       2612 non-null   object \n",
      " 6   place_of_birth    2595 non-null   object \n",
      " 7   price             2602 non-null   float64\n",
      " 8   max_price         2606 non-null   float64\n",
      " 9   position          2612 non-null   object \n",
      " 10  shirt_nr          2612 non-null   int64  \n",
      " 11  foot              2576 non-null   object \n",
      " 12  club              2612 non-null   object \n",
      " 13  contract_expires  2544 non-null   object \n",
      " 14  joined_club       2612 non-null   object \n",
      " 15  player_agent      2353 non-null   object \n",
      " 16  outfitter         1003 non-null   object \n",
      " 17  league            2612 non-null   object \n",
      "dtypes: float64(3), int64(3), object(12)\n",
      "memory usage: 367.4+ KB\n"
     ]
    }
   ],
   "source": [
    "df.info()"
   ]
  },
  {
   "cell_type": "markdown",
   "id": "2d2d0939-5d56-44e6-9ba6-ed2aa539ee61",
   "metadata": {},
   "source": [
    "## 1. The most expensive players in all league"
   ]
  },
  {
   "cell_type": "code",
   "execution_count": 113,
   "id": "a6228b09-e616-4ea3-8087-b45d8305d7d1",
   "metadata": {},
   "outputs": [],
   "source": [
    "df_exp = df[['name','max_price']].head(20)\n",
    "df_exp.sort_values('max_price', ascending=False, inplace=True)"
   ]
  },
  {
   "cell_type": "code",
   "execution_count": 115,
   "id": "0492c5bd-576a-41c5-860f-0e79b4b451f5",
   "metadata": {},
   "outputs": [
    {
     "data": {
      "text/html": [
       "<div>\n",
       "<style scoped>\n",
       "    .dataframe tbody tr th:only-of-type {\n",
       "        vertical-align: middle;\n",
       "    }\n",
       "\n",
       "    .dataframe tbody tr th {\n",
       "        vertical-align: top;\n",
       "    }\n",
       "\n",
       "    .dataframe thead th {\n",
       "        text-align: right;\n",
       "    }\n",
       "</style>\n",
       "<table border=\"1\" class=\"dataframe\">\n",
       "  <thead>\n",
       "    <tr style=\"text-align: right;\">\n",
       "      <th></th>\n",
       "      <th>name</th>\n",
       "      <th>max_price</th>\n",
       "    </tr>\n",
       "  </thead>\n",
       "  <tbody>\n",
       "    <tr>\n",
       "      <th>16</th>\n",
       "      <td>Kevin De Bruyne</td>\n",
       "      <td>150.0</td>\n",
       "    </tr>\n",
       "    <tr>\n",
       "      <th>19</th>\n",
       "      <td>Phil Foden</td>\n",
       "      <td>110.0</td>\n",
       "    </tr>\n",
       "    <tr>\n",
       "      <th>17</th>\n",
       "      <td>Bernardo Silva</td>\n",
       "      <td>100.0</td>\n",
       "    </tr>\n",
       "    <tr>\n",
       "      <th>12</th>\n",
       "      <td>Rodri</td>\n",
       "      <td>80.0</td>\n",
       "    </tr>\n",
       "    <tr>\n",
       "      <th>6</th>\n",
       "      <td>Aymeric Laporte</td>\n",
       "      <td>75.0</td>\n",
       "    </tr>\n",
       "    <tr>\n",
       "      <th>3</th>\n",
       "      <td>Rúben Dias</td>\n",
       "      <td>75.0</td>\n",
       "    </tr>\n",
       "    <tr>\n",
       "      <th>0</th>\n",
       "      <td>Ederson</td>\n",
       "      <td>70.0</td>\n",
       "    </tr>\n",
       "    <tr>\n",
       "      <th>5</th>\n",
       "      <td>John Stones</td>\n",
       "      <td>60.0</td>\n",
       "    </tr>\n",
       "    <tr>\n",
       "      <th>13</th>\n",
       "      <td>Kalvin Phillips</td>\n",
       "      <td>50.0</td>\n",
       "    </tr>\n",
       "    <tr>\n",
       "      <th>15</th>\n",
       "      <td>Ilkay Gündogan</td>\n",
       "      <td>50.0</td>\n",
       "    </tr>\n",
       "    <tr>\n",
       "      <th>10</th>\n",
       "      <td>Kyle Walker</td>\n",
       "      <td>50.0</td>\n",
       "    </tr>\n",
       "    <tr>\n",
       "      <th>9</th>\n",
       "      <td>Benjamin Mendy</td>\n",
       "      <td>45.0</td>\n",
       "    </tr>\n",
       "    <tr>\n",
       "      <th>7</th>\n",
       "      <td>Manuel Akanji</td>\n",
       "      <td>40.0</td>\n",
       "    </tr>\n",
       "    <tr>\n",
       "      <th>4</th>\n",
       "      <td>Nathan Aké</td>\n",
       "      <td>40.0</td>\n",
       "    </tr>\n",
       "    <tr>\n",
       "      <th>8</th>\n",
       "      <td>Sergio Gómez</td>\n",
       "      <td>15.0</td>\n",
       "    </tr>\n",
       "    <tr>\n",
       "      <th>11</th>\n",
       "      <td>Rico Lewis</td>\n",
       "      <td>15.0</td>\n",
       "    </tr>\n",
       "    <tr>\n",
       "      <th>18</th>\n",
       "      <td>Cole Palmer</td>\n",
       "      <td>15.0</td>\n",
       "    </tr>\n",
       "    <tr>\n",
       "      <th>14</th>\n",
       "      <td>Máximo Perrone</td>\n",
       "      <td>10.0</td>\n",
       "    </tr>\n",
       "    <tr>\n",
       "      <th>1</th>\n",
       "      <td>Stefan Ortega</td>\n",
       "      <td>6.0</td>\n",
       "    </tr>\n",
       "    <tr>\n",
       "      <th>2</th>\n",
       "      <td>Scott Carson</td>\n",
       "      <td>6.0</td>\n",
       "    </tr>\n",
       "  </tbody>\n",
       "</table>\n",
       "</div>"
      ],
      "text/plain": [
       "               name  max_price\n",
       "16  Kevin De Bruyne      150.0\n",
       "19       Phil Foden      110.0\n",
       "17   Bernardo Silva      100.0\n",
       "12            Rodri       80.0\n",
       "6   Aymeric Laporte       75.0\n",
       "3        Rúben Dias       75.0\n",
       "0           Ederson       70.0\n",
       "5       John Stones       60.0\n",
       "13  Kalvin Phillips       50.0\n",
       "15   Ilkay Gündogan       50.0\n",
       "10      Kyle Walker       50.0\n",
       "9    Benjamin Mendy       45.0\n",
       "7     Manuel Akanji       40.0\n",
       "4        Nathan Aké       40.0\n",
       "8      Sergio Gómez       15.0\n",
       "11       Rico Lewis       15.0\n",
       "18      Cole Palmer       15.0\n",
       "14   Máximo Perrone       10.0\n",
       "1     Stefan Ortega        6.0\n",
       "2      Scott Carson        6.0"
      ]
     },
     "execution_count": 115,
     "metadata": {},
     "output_type": "execute_result"
    }
   ],
   "source": [
    "df_exp"
   ]
  },
  {
   "cell_type": "code",
   "execution_count": 117,
   "id": "2e57f1ae-faf6-4e34-ae27-e2200bdf7106",
   "metadata": {},
   "outputs": [
    {
     "data": {
      "application/vnd.plotly.v1+json": {
       "config": {
        "plotlyServerURL": "https://plot.ly"
       },
       "data": [
        {
         "alignmentgroup": "True",
         "hovertemplate": "name=%{x}<br>max_price=%{marker.color}<extra></extra>",
         "legendgroup": "",
         "marker": {
          "color": [
           150,
           110,
           100,
           80,
           75,
           75,
           70,
           60,
           50,
           50,
           50,
           45,
           40,
           40,
           15,
           15,
           15,
           10,
           6,
           6
          ],
          "coloraxis": "coloraxis",
          "pattern": {
           "shape": ""
          }
         },
         "name": "",
         "offsetgroup": "",
         "orientation": "v",
         "showlegend": false,
         "textposition": "auto",
         "type": "bar",
         "x": [
          "Kevin De Bruyne",
          "Phil Foden",
          "Bernardo Silva",
          "Rodri",
          "Aymeric Laporte",
          "Rúben Dias",
          "Ederson",
          "John Stones",
          "Kalvin Phillips",
          "Ilkay Gündogan",
          "Kyle Walker",
          "Benjamin Mendy",
          "Manuel Akanji",
          "Nathan Aké",
          "Sergio Gómez",
          "Rico Lewis",
          "Cole Palmer",
          "Máximo Perrone",
          "Stefan Ortega",
          "Scott Carson"
         ],
         "xaxis": "x",
         "y": [
          150,
          110,
          100,
          80,
          75,
          75,
          70,
          60,
          50,
          50,
          50,
          45,
          40,
          40,
          15,
          15,
          15,
          10,
          6,
          6
         ],
         "yaxis": "y"
        }
       ],
       "layout": {
        "barmode": "relative",
        "coloraxis": {
         "colorbar": {
          "title": {
           "text": "max_price"
          }
         },
         "colorscale": [
          [
           0,
           "White"
          ],
          [
           1,
           "red"
          ]
         ]
        },
        "height": 500,
        "legend": {
         "tracegroupgap": 0
        },
        "template": {
         "data": {
          "bar": [
           {
            "error_x": {
             "color": "#f2f5fa"
            },
            "error_y": {
             "color": "#f2f5fa"
            },
            "marker": {
             "line": {
              "color": "rgb(17,17,17)",
              "width": 0.5
             },
             "pattern": {
              "fillmode": "overlay",
              "size": 10,
              "solidity": 0.2
             }
            },
            "type": "bar"
           }
          ],
          "barpolar": [
           {
            "marker": {
             "line": {
              "color": "rgb(17,17,17)",
              "width": 0.5
             },
             "pattern": {
              "fillmode": "overlay",
              "size": 10,
              "solidity": 0.2
             }
            },
            "type": "barpolar"
           }
          ],
          "carpet": [
           {
            "aaxis": {
             "endlinecolor": "#A2B1C6",
             "gridcolor": "#506784",
             "linecolor": "#506784",
             "minorgridcolor": "#506784",
             "startlinecolor": "#A2B1C6"
            },
            "baxis": {
             "endlinecolor": "#A2B1C6",
             "gridcolor": "#506784",
             "linecolor": "#506784",
             "minorgridcolor": "#506784",
             "startlinecolor": "#A2B1C6"
            },
            "type": "carpet"
           }
          ],
          "choropleth": [
           {
            "colorbar": {
             "outlinewidth": 0,
             "ticks": ""
            },
            "type": "choropleth"
           }
          ],
          "contour": [
           {
            "colorbar": {
             "outlinewidth": 0,
             "ticks": ""
            },
            "colorscale": [
             [
              0,
              "#0d0887"
             ],
             [
              0.1111111111111111,
              "#46039f"
             ],
             [
              0.2222222222222222,
              "#7201a8"
             ],
             [
              0.3333333333333333,
              "#9c179e"
             ],
             [
              0.4444444444444444,
              "#bd3786"
             ],
             [
              0.5555555555555556,
              "#d8576b"
             ],
             [
              0.6666666666666666,
              "#ed7953"
             ],
             [
              0.7777777777777778,
              "#fb9f3a"
             ],
             [
              0.8888888888888888,
              "#fdca26"
             ],
             [
              1,
              "#f0f921"
             ]
            ],
            "type": "contour"
           }
          ],
          "contourcarpet": [
           {
            "colorbar": {
             "outlinewidth": 0,
             "ticks": ""
            },
            "type": "contourcarpet"
           }
          ],
          "heatmap": [
           {
            "colorbar": {
             "outlinewidth": 0,
             "ticks": ""
            },
            "colorscale": [
             [
              0,
              "#0d0887"
             ],
             [
              0.1111111111111111,
              "#46039f"
             ],
             [
              0.2222222222222222,
              "#7201a8"
             ],
             [
              0.3333333333333333,
              "#9c179e"
             ],
             [
              0.4444444444444444,
              "#bd3786"
             ],
             [
              0.5555555555555556,
              "#d8576b"
             ],
             [
              0.6666666666666666,
              "#ed7953"
             ],
             [
              0.7777777777777778,
              "#fb9f3a"
             ],
             [
              0.8888888888888888,
              "#fdca26"
             ],
             [
              1,
              "#f0f921"
             ]
            ],
            "type": "heatmap"
           }
          ],
          "heatmapgl": [
           {
            "colorbar": {
             "outlinewidth": 0,
             "ticks": ""
            },
            "colorscale": [
             [
              0,
              "#0d0887"
             ],
             [
              0.1111111111111111,
              "#46039f"
             ],
             [
              0.2222222222222222,
              "#7201a8"
             ],
             [
              0.3333333333333333,
              "#9c179e"
             ],
             [
              0.4444444444444444,
              "#bd3786"
             ],
             [
              0.5555555555555556,
              "#d8576b"
             ],
             [
              0.6666666666666666,
              "#ed7953"
             ],
             [
              0.7777777777777778,
              "#fb9f3a"
             ],
             [
              0.8888888888888888,
              "#fdca26"
             ],
             [
              1,
              "#f0f921"
             ]
            ],
            "type": "heatmapgl"
           }
          ],
          "histogram": [
           {
            "marker": {
             "pattern": {
              "fillmode": "overlay",
              "size": 10,
              "solidity": 0.2
             }
            },
            "type": "histogram"
           }
          ],
          "histogram2d": [
           {
            "colorbar": {
             "outlinewidth": 0,
             "ticks": ""
            },
            "colorscale": [
             [
              0,
              "#0d0887"
             ],
             [
              0.1111111111111111,
              "#46039f"
             ],
             [
              0.2222222222222222,
              "#7201a8"
             ],
             [
              0.3333333333333333,
              "#9c179e"
             ],
             [
              0.4444444444444444,
              "#bd3786"
             ],
             [
              0.5555555555555556,
              "#d8576b"
             ],
             [
              0.6666666666666666,
              "#ed7953"
             ],
             [
              0.7777777777777778,
              "#fb9f3a"
             ],
             [
              0.8888888888888888,
              "#fdca26"
             ],
             [
              1,
              "#f0f921"
             ]
            ],
            "type": "histogram2d"
           }
          ],
          "histogram2dcontour": [
           {
            "colorbar": {
             "outlinewidth": 0,
             "ticks": ""
            },
            "colorscale": [
             [
              0,
              "#0d0887"
             ],
             [
              0.1111111111111111,
              "#46039f"
             ],
             [
              0.2222222222222222,
              "#7201a8"
             ],
             [
              0.3333333333333333,
              "#9c179e"
             ],
             [
              0.4444444444444444,
              "#bd3786"
             ],
             [
              0.5555555555555556,
              "#d8576b"
             ],
             [
              0.6666666666666666,
              "#ed7953"
             ],
             [
              0.7777777777777778,
              "#fb9f3a"
             ],
             [
              0.8888888888888888,
              "#fdca26"
             ],
             [
              1,
              "#f0f921"
             ]
            ],
            "type": "histogram2dcontour"
           }
          ],
          "mesh3d": [
           {
            "colorbar": {
             "outlinewidth": 0,
             "ticks": ""
            },
            "type": "mesh3d"
           }
          ],
          "parcoords": [
           {
            "line": {
             "colorbar": {
              "outlinewidth": 0,
              "ticks": ""
             }
            },
            "type": "parcoords"
           }
          ],
          "pie": [
           {
            "automargin": true,
            "type": "pie"
           }
          ],
          "scatter": [
           {
            "marker": {
             "line": {
              "color": "#283442"
             }
            },
            "type": "scatter"
           }
          ],
          "scatter3d": [
           {
            "line": {
             "colorbar": {
              "outlinewidth": 0,
              "ticks": ""
             }
            },
            "marker": {
             "colorbar": {
              "outlinewidth": 0,
              "ticks": ""
             }
            },
            "type": "scatter3d"
           }
          ],
          "scattercarpet": [
           {
            "marker": {
             "colorbar": {
              "outlinewidth": 0,
              "ticks": ""
             }
            },
            "type": "scattercarpet"
           }
          ],
          "scattergeo": [
           {
            "marker": {
             "colorbar": {
              "outlinewidth": 0,
              "ticks": ""
             }
            },
            "type": "scattergeo"
           }
          ],
          "scattergl": [
           {
            "marker": {
             "line": {
              "color": "#283442"
             }
            },
            "type": "scattergl"
           }
          ],
          "scattermapbox": [
           {
            "marker": {
             "colorbar": {
              "outlinewidth": 0,
              "ticks": ""
             }
            },
            "type": "scattermapbox"
           }
          ],
          "scatterpolar": [
           {
            "marker": {
             "colorbar": {
              "outlinewidth": 0,
              "ticks": ""
             }
            },
            "type": "scatterpolar"
           }
          ],
          "scatterpolargl": [
           {
            "marker": {
             "colorbar": {
              "outlinewidth": 0,
              "ticks": ""
             }
            },
            "type": "scatterpolargl"
           }
          ],
          "scatterternary": [
           {
            "marker": {
             "colorbar": {
              "outlinewidth": 0,
              "ticks": ""
             }
            },
            "type": "scatterternary"
           }
          ],
          "surface": [
           {
            "colorbar": {
             "outlinewidth": 0,
             "ticks": ""
            },
            "colorscale": [
             [
              0,
              "#0d0887"
             ],
             [
              0.1111111111111111,
              "#46039f"
             ],
             [
              0.2222222222222222,
              "#7201a8"
             ],
             [
              0.3333333333333333,
              "#9c179e"
             ],
             [
              0.4444444444444444,
              "#bd3786"
             ],
             [
              0.5555555555555556,
              "#d8576b"
             ],
             [
              0.6666666666666666,
              "#ed7953"
             ],
             [
              0.7777777777777778,
              "#fb9f3a"
             ],
             [
              0.8888888888888888,
              "#fdca26"
             ],
             [
              1,
              "#f0f921"
             ]
            ],
            "type": "surface"
           }
          ],
          "table": [
           {
            "cells": {
             "fill": {
              "color": "#506784"
             },
             "line": {
              "color": "rgb(17,17,17)"
             }
            },
            "header": {
             "fill": {
              "color": "#2a3f5f"
             },
             "line": {
              "color": "rgb(17,17,17)"
             }
            },
            "type": "table"
           }
          ]
         },
         "layout": {
          "annotationdefaults": {
           "arrowcolor": "#f2f5fa",
           "arrowhead": 0,
           "arrowwidth": 1
          },
          "autotypenumbers": "strict",
          "coloraxis": {
           "colorbar": {
            "outlinewidth": 0,
            "ticks": ""
           }
          },
          "colorscale": {
           "diverging": [
            [
             0,
             "#8e0152"
            ],
            [
             0.1,
             "#c51b7d"
            ],
            [
             0.2,
             "#de77ae"
            ],
            [
             0.3,
             "#f1b6da"
            ],
            [
             0.4,
             "#fde0ef"
            ],
            [
             0.5,
             "#f7f7f7"
            ],
            [
             0.6,
             "#e6f5d0"
            ],
            [
             0.7,
             "#b8e186"
            ],
            [
             0.8,
             "#7fbc41"
            ],
            [
             0.9,
             "#4d9221"
            ],
            [
             1,
             "#276419"
            ]
           ],
           "sequential": [
            [
             0,
             "#0d0887"
            ],
            [
             0.1111111111111111,
             "#46039f"
            ],
            [
             0.2222222222222222,
             "#7201a8"
            ],
            [
             0.3333333333333333,
             "#9c179e"
            ],
            [
             0.4444444444444444,
             "#bd3786"
            ],
            [
             0.5555555555555556,
             "#d8576b"
            ],
            [
             0.6666666666666666,
             "#ed7953"
            ],
            [
             0.7777777777777778,
             "#fb9f3a"
            ],
            [
             0.8888888888888888,
             "#fdca26"
            ],
            [
             1,
             "#f0f921"
            ]
           ],
           "sequentialminus": [
            [
             0,
             "#0d0887"
            ],
            [
             0.1111111111111111,
             "#46039f"
            ],
            [
             0.2222222222222222,
             "#7201a8"
            ],
            [
             0.3333333333333333,
             "#9c179e"
            ],
            [
             0.4444444444444444,
             "#bd3786"
            ],
            [
             0.5555555555555556,
             "#d8576b"
            ],
            [
             0.6666666666666666,
             "#ed7953"
            ],
            [
             0.7777777777777778,
             "#fb9f3a"
            ],
            [
             0.8888888888888888,
             "#fdca26"
            ],
            [
             1,
             "#f0f921"
            ]
           ]
          },
          "colorway": [
           "#636efa",
           "#EF553B",
           "#00cc96",
           "#ab63fa",
           "#FFA15A",
           "#19d3f3",
           "#FF6692",
           "#B6E880",
           "#FF97FF",
           "#FECB52"
          ],
          "font": {
           "color": "#f2f5fa"
          },
          "geo": {
           "bgcolor": "rgb(17,17,17)",
           "lakecolor": "rgb(17,17,17)",
           "landcolor": "rgb(17,17,17)",
           "showlakes": true,
           "showland": true,
           "subunitcolor": "#506784"
          },
          "hoverlabel": {
           "align": "left"
          },
          "hovermode": "closest",
          "mapbox": {
           "style": "dark"
          },
          "paper_bgcolor": "rgb(17,17,17)",
          "plot_bgcolor": "rgb(17,17,17)",
          "polar": {
           "angularaxis": {
            "gridcolor": "#506784",
            "linecolor": "#506784",
            "ticks": ""
           },
           "bgcolor": "rgb(17,17,17)",
           "radialaxis": {
            "gridcolor": "#506784",
            "linecolor": "#506784",
            "ticks": ""
           }
          },
          "scene": {
           "xaxis": {
            "backgroundcolor": "rgb(17,17,17)",
            "gridcolor": "#506784",
            "gridwidth": 2,
            "linecolor": "#506784",
            "showbackground": true,
            "ticks": "",
            "zerolinecolor": "#C8D4E3"
           },
           "yaxis": {
            "backgroundcolor": "rgb(17,17,17)",
            "gridcolor": "#506784",
            "gridwidth": 2,
            "linecolor": "#506784",
            "showbackground": true,
            "ticks": "",
            "zerolinecolor": "#C8D4E3"
           },
           "zaxis": {
            "backgroundcolor": "rgb(17,17,17)",
            "gridcolor": "#506784",
            "gridwidth": 2,
            "linecolor": "#506784",
            "showbackground": true,
            "ticks": "",
            "zerolinecolor": "#C8D4E3"
           }
          },
          "shapedefaults": {
           "line": {
            "color": "#f2f5fa"
           }
          },
          "sliderdefaults": {
           "bgcolor": "#C8D4E3",
           "bordercolor": "rgb(17,17,17)",
           "borderwidth": 1,
           "tickwidth": 0
          },
          "ternary": {
           "aaxis": {
            "gridcolor": "#506784",
            "linecolor": "#506784",
            "ticks": ""
           },
           "baxis": {
            "gridcolor": "#506784",
            "linecolor": "#506784",
            "ticks": ""
           },
           "bgcolor": "rgb(17,17,17)",
           "caxis": {
            "gridcolor": "#506784",
            "linecolor": "#506784",
            "ticks": ""
           }
          },
          "title": {
           "x": 0.05
          },
          "updatemenudefaults": {
           "bgcolor": "#506784",
           "borderwidth": 0
          },
          "xaxis": {
           "automargin": true,
           "gridcolor": "#283442",
           "linecolor": "#506784",
           "ticks": "",
           "title": {
            "standoff": 15
           },
           "zerolinecolor": "#283442",
           "zerolinewidth": 2
          },
          "yaxis": {
           "automargin": true,
           "gridcolor": "#283442",
           "linecolor": "#506784",
           "ticks": "",
           "title": {
            "standoff": 15
           },
           "zerolinecolor": "#283442",
           "zerolinewidth": 2
          }
         }
        },
        "title": {
         "text": "20 most expensive players in all league (Maximum price in Million)"
        },
        "width": 1000,
        "xaxis": {
         "anchor": "y",
         "autorange": true,
         "domain": [
          0,
          1
         ],
         "range": [
          -0.5,
          19.5
         ],
         "title": {
          "text": "name"
         },
         "type": "category"
        },
        "yaxis": {
         "anchor": "x",
         "autorange": true,
         "domain": [
          0,
          1
         ],
         "range": [
          0,
          157.89473684210526
         ],
         "title": {
          "text": "max_price"
         },
         "type": "linear"
        }
       }
      },
      "image/png": "[encoded data removed]",
      "text/html": [
       "<div>                            <div id=\"7b37ac6a-0caa-4daa-964e-f5aad1cdbd20\" class=\"plotly-graph-div\" style=\"height:500px; width:1000px;\"></div>            <script type=\"text/javascript\">                require([\"plotly\"], function(Plotly) {                    window.PLOTLYENV=window.PLOTLYENV || {};                                    if (document.getElementById(\"7b37ac6a-0caa-4daa-964e-f5aad1cdbd20\")) {                    Plotly.newPlot(                        \"7b37ac6a-0caa-4daa-964e-f5aad1cdbd20\",                        [{\"alignmentgroup\":\"True\",\"hovertemplate\":\"name=%{x}\\u003cbr\\u003emax_price=%{marker.color}\\u003cextra\\u003e\\u003c\\u002fextra\\u003e\",\"legendgroup\":\"\",\"marker\":{\"color\":[150.0,110.0,100.0,80.0,75.0,75.0,70.0,60.0,50.0,50.0,50.0,45.0,40.0,40.0,15.0,15.0,15.0,10.0,6.0,6.0],\"coloraxis\":\"coloraxis\",\"pattern\":{\"shape\":\"\"}},\"name\":\"\",\"offsetgroup\":\"\",\"orientation\":\"v\",\"showlegend\":false,\"textposition\":\"auto\",\"x\":[\"Kevin De Bruyne\",\"Phil Foden\",\"Bernardo Silva\",\"Rodri\",\"Aymeric Laporte\",\"R\\u00faben Dias\",\"Ederson\",\"John Stones\",\"Kalvin Phillips\",\"Ilkay G\\u00fcndogan\",\"Kyle Walker\",\"Benjamin Mendy\",\"Manuel Akanji\",\"Nathan Ak\\u00e9\",\"Sergio G\\u00f3mez\",\"Rico Lewis\",\"Cole Palmer\",\"M\\u00e1ximo Perrone\",\"Stefan Ortega\",\"Scott Carson\"],\"xaxis\":\"x\",\"y\":[150.0,110.0,100.0,80.0,75.0,75.0,70.0,60.0,50.0,50.0,50.0,45.0,40.0,40.0,15.0,15.0,15.0,10.0,6.0,6.0],\"yaxis\":\"y\",\"type\":\"bar\"}],                        {\"template\":{\"data\":{\"barpolar\":[{\"marker\":{\"line\":{\"color\":\"rgb(17,17,17)\",\"width\":0.5},\"pattern\":{\"fillmode\":\"overlay\",\"size\":10,\"solidity\":0.2}},\"type\":\"barpolar\"}],\"bar\":[{\"error_x\":{\"color\":\"#f2f5fa\"},\"error_y\":{\"color\":\"#f2f5fa\"},\"marker\":{\"line\":{\"color\":\"rgb(17,17,17)\",\"width\":0.5},\"pattern\":{\"fillmode\":\"overlay\",\"size\":10,\"solidity\":0.2}},\"type\":\"bar\"}],\"carpet\":[{\"aaxis\":{\"endlinecolor\":\"#A2B1C6\",\"gridcolor\":\"#506784\",\"linecolor\":\"#506784\",\"minorgridcolor\":\"#506784\",\"startlinecolor\":\"#A2B1C6\"},\"baxis\":{\"endlinecolor\":\"#A2B1C6\",\"gridcolor\":\"#506784\",\"linecolor\":\"#506784\",\"minorgridcolor\":\"#506784\",\"startlinecolor\":\"#A2B1C6\"},\"type\":\"carpet\"}],\"choropleth\":[{\"colorbar\":{\"outlinewidth\":0,\"ticks\":\"\"},\"type\":\"choropleth\"}],\"contourcarpet\":[{\"colorbar\":{\"outlinewidth\":0,\"ticks\":\"\"},\"type\":\"contourcarpet\"}],\"contour\":[{\"colorbar\":{\"outlinewidth\":0,\"ticks\":\"\"},\"colorscale\":[[0.0,\"#0d0887\"],[0.1111111111111111,\"#46039f\"],[0.2222222222222222,\"#7201a8\"],[0.3333333333333333,\"#9c179e\"],[0.4444444444444444,\"#bd3786\"],[0.5555555555555556,\"#d8576b\"],[0.6666666666666666,\"#ed7953\"],[0.7777777777777778,\"#fb9f3a\"],[0.8888888888888888,\"#fdca26\"],[1.0,\"#f0f921\"]],\"type\":\"contour\"}],\"heatmapgl\":[{\"colorbar\":{\"outlinewidth\":0,\"ticks\":\"\"},\"colorscale\":[[0.0,\"#0d0887\"],[0.1111111111111111,\"#46039f\"],[0.2222222222222222,\"#7201a8\"],[0.3333333333333333,\"#9c179e\"],[0.4444444444444444,\"#bd3786\"],[0.5555555555555556,\"#d8576b\"],[0.6666666666666666,\"#ed7953\"],[0.7777777777777778,\"#fb9f3a\"],[0.8888888888888888,\"#fdca26\"],[1.0,\"#f0f921\"]],\"type\":\"heatmapgl\"}],\"heatmap\":[{\"colorbar\":{\"outlinewidth\":0,\"ticks\":\"\"},\"colorscale\":[[0.0,\"#0d0887\"],[0.1111111111111111,\"#46039f\"],[0.2222222222222222,\"#7201a8\"],[0.3333333333333333,\"#9c179e\"],[0.4444444444444444,\"#bd3786\"],[0.5555555555555556,\"#d8576b\"],[0.6666666666666666,\"#ed7953\"],[0.7777777777777778,\"#fb9f3a\"],[0.8888888888888888,\"#fdca26\"],[1.0,\"#f0f921\"]],\"type\":\"heatmap\"}],\"histogram2dcontour\":[{\"colorbar\":{\"outlinewidth\":0,\"ticks\":\"\"},\"colorscale\":[[0.0,\"#0d0887\"],[0.1111111111111111,\"#46039f\"],[0.2222222222222222,\"#7201a8\"],[0.3333333333333333,\"#9c179e\"],[0.4444444444444444,\"#bd3786\"],[0.5555555555555556,\"#d8576b\"],[0.6666666666666666,\"#ed7953\"],[0.7777777777777778,\"#fb9f3a\"],[0.8888888888888888,\"#fdca26\"],[1.0,\"#f0f921\"]],\"type\":\"histogram2dcontour\"}],\"histogram2d\":[{\"colorbar\":{\"outlinewidth\":0,\"ticks\":\"\"},\"colorscale\":[[0.0,\"#0d0887\"],[0.1111111111111111,\"#46039f\"],[0.2222222222222222,\"#7201a8\"],[0.3333333333333333,\"#9c179e\"],[0.4444444444444444,\"#bd3786\"],[0.5555555555555556,\"#d8576b\"],[0.6666666666666666,\"#ed7953\"],[0.7777777777777778,\"#fb9f3a\"],[0.8888888888888888,\"#fdca26\"],[1.0,\"#f0f921\"]],\"type\":\"histogram2d\"}],\"histogram\":[{\"marker\":{\"pattern\":{\"fillmode\":\"overlay\",\"size\":10,\"solidity\":0.2}},\"type\":\"histogram\"}],\"mesh3d\":[{\"colorbar\":{\"outlinewidth\":0,\"ticks\":\"\"},\"type\":\"mesh3d\"}],\"parcoords\":[{\"line\":{\"colorbar\":{\"outlinewidth\":0,\"ticks\":\"\"}},\"type\":\"parcoords\"}],\"pie\":[{\"automargin\":true,\"type\":\"pie\"}],\"scatter3d\":[{\"line\":{\"colorbar\":{\"outlinewidth\":0,\"ticks\":\"\"}},\"marker\":{\"colorbar\":{\"outlinewidth\":0,\"ticks\":\"\"}},\"type\":\"scatter3d\"}],\"scattercarpet\":[{\"marker\":{\"colorbar\":{\"outlinewidth\":0,\"ticks\":\"\"}},\"type\":\"scattercarpet\"}],\"scattergeo\":[{\"marker\":{\"colorbar\":{\"outlinewidth\":0,\"ticks\":\"\"}},\"type\":\"scattergeo\"}],\"scattergl\":[{\"marker\":{\"line\":{\"color\":\"#283442\"}},\"type\":\"scattergl\"}],\"scattermapbox\":[{\"marker\":{\"colorbar\":{\"outlinewidth\":0,\"ticks\":\"\"}},\"type\":\"scattermapbox\"}],\"scatterpolargl\":[{\"marker\":{\"colorbar\":{\"outlinewidth\":0,\"ticks\":\"\"}},\"type\":\"scatterpolargl\"}],\"scatterpolar\":[{\"marker\":{\"colorbar\":{\"outlinewidth\":0,\"ticks\":\"\"}},\"type\":\"scatterpolar\"}],\"scatter\":[{\"marker\":{\"line\":{\"color\":\"#283442\"}},\"type\":\"scatter\"}],\"scatterternary\":[{\"marker\":{\"colorbar\":{\"outlinewidth\":0,\"ticks\":\"\"}},\"type\":\"scatterternary\"}],\"surface\":[{\"colorbar\":{\"outlinewidth\":0,\"ticks\":\"\"},\"colorscale\":[[0.0,\"#0d0887\"],[0.1111111111111111,\"#46039f\"],[0.2222222222222222,\"#7201a8\"],[0.3333333333333333,\"#9c179e\"],[0.4444444444444444,\"#bd3786\"],[0.5555555555555556,\"#d8576b\"],[0.6666666666666666,\"#ed7953\"],[0.7777777777777778,\"#fb9f3a\"],[0.8888888888888888,\"#fdca26\"],[1.0,\"#f0f921\"]],\"type\":\"surface\"}],\"table\":[{\"cells\":{\"fill\":{\"color\":\"#506784\"},\"line\":{\"color\":\"rgb(17,17,17)\"}},\"header\":{\"fill\":{\"color\":\"#2a3f5f\"},\"line\":{\"color\":\"rgb(17,17,17)\"}},\"type\":\"table\"}]},\"layout\":{\"annotationdefaults\":{\"arrowcolor\":\"#f2f5fa\",\"arrowhead\":0,\"arrowwidth\":1},\"autotypenumbers\":\"strict\",\"coloraxis\":{\"colorbar\":{\"outlinewidth\":0,\"ticks\":\"\"}},\"colorscale\":{\"diverging\":[[0,\"#8e0152\"],[0.1,\"#c51b7d\"],[0.2,\"#de77ae\"],[0.3,\"#f1b6da\"],[0.4,\"#fde0ef\"],[0.5,\"#f7f7f7\"],[0.6,\"#e6f5d0\"],[0.7,\"#b8e186\"],[0.8,\"#7fbc41\"],[0.9,\"#4d9221\"],[1,\"#276419\"]],\"sequential\":[[0.0,\"#0d0887\"],[0.1111111111111111,\"#46039f\"],[0.2222222222222222,\"#7201a8\"],[0.3333333333333333,\"#9c179e\"],[0.4444444444444444,\"#bd3786\"],[0.5555555555555556,\"#d8576b\"],[0.6666666666666666,\"#ed7953\"],[0.7777777777777778,\"#fb9f3a\"],[0.8888888888888888,\"#fdca26\"],[1.0,\"#f0f921\"]],\"sequentialminus\":[[0.0,\"#0d0887\"],[0.1111111111111111,\"#46039f\"],[0.2222222222222222,\"#7201a8\"],[0.3333333333333333,\"#9c179e\"],[0.4444444444444444,\"#bd3786\"],[0.5555555555555556,\"#d8576b\"],[0.6666666666666666,\"#ed7953\"],[0.7777777777777778,\"#fb9f3a\"],[0.8888888888888888,\"#fdca26\"],[1.0,\"#f0f921\"]]},\"colorway\":[\"#636efa\",\"#EF553B\",\"#00cc96\",\"#ab63fa\",\"#FFA15A\",\"#19d3f3\",\"#FF6692\",\"#B6E880\",\"#FF97FF\",\"#FECB52\"],\"font\":{\"color\":\"#f2f5fa\"},\"geo\":{\"bgcolor\":\"rgb(17,17,17)\",\"lakecolor\":\"rgb(17,17,17)\",\"landcolor\":\"rgb(17,17,17)\",\"showlakes\":true,\"showland\":true,\"subunitcolor\":\"#506784\"},\"hoverlabel\":{\"align\":\"left\"},\"hovermode\":\"closest\",\"mapbox\":{\"style\":\"dark\"},\"paper_bgcolor\":\"rgb(17,17,17)\",\"plot_bgcolor\":\"rgb(17,17,17)\",\"polar\":{\"angularaxis\":{\"gridcolor\":\"#506784\",\"linecolor\":\"#506784\",\"ticks\":\"\"},\"bgcolor\":\"rgb(17,17,17)\",\"radialaxis\":{\"gridcolor\":\"#506784\",\"linecolor\":\"#506784\",\"ticks\":\"\"}},\"scene\":{\"xaxis\":{\"backgroundcolor\":\"rgb(17,17,17)\",\"gridcolor\":\"#506784\",\"gridwidth\":2,\"linecolor\":\"#506784\",\"showbackground\":true,\"ticks\":\"\",\"zerolinecolor\":\"#C8D4E3\"},\"yaxis\":{\"backgroundcolor\":\"rgb(17,17,17)\",\"gridcolor\":\"#506784\",\"gridwidth\":2,\"linecolor\":\"#506784\",\"showbackground\":true,\"ticks\":\"\",\"zerolinecolor\":\"#C8D4E3\"},\"zaxis\":{\"backgroundcolor\":\"rgb(17,17,17)\",\"gridcolor\":\"#506784\",\"gridwidth\":2,\"linecolor\":\"#506784\",\"showbackground\":true,\"ticks\":\"\",\"zerolinecolor\":\"#C8D4E3\"}},\"shapedefaults\":{\"line\":{\"color\":\"#f2f5fa\"}},\"sliderdefaults\":{\"bgcolor\":\"#C8D4E3\",\"bordercolor\":\"rgb(17,17,17)\",\"borderwidth\":1,\"tickwidth\":0},\"ternary\":{\"aaxis\":{\"gridcolor\":\"#506784\",\"linecolor\":\"#506784\",\"ticks\":\"\"},\"baxis\":{\"gridcolor\":\"#506784\",\"linecolor\":\"#506784\",\"ticks\":\"\"},\"bgcolor\":\"rgb(17,17,17)\",\"caxis\":{\"gridcolor\":\"#506784\",\"linecolor\":\"#506784\",\"ticks\":\"\"}},\"title\":{\"x\":0.05},\"updatemenudefaults\":{\"bgcolor\":\"#506784\",\"borderwidth\":0},\"xaxis\":{\"automargin\":true,\"gridcolor\":\"#283442\",\"linecolor\":\"#506784\",\"ticks\":\"\",\"title\":{\"standoff\":15},\"zerolinecolor\":\"#283442\",\"zerolinewidth\":2},\"yaxis\":{\"automargin\":true,\"gridcolor\":\"#283442\",\"linecolor\":\"#506784\",\"ticks\":\"\",\"title\":{\"standoff\":15},\"zerolinecolor\":\"#283442\",\"zerolinewidth\":2}}},\"xaxis\":{\"anchor\":\"y\",\"domain\":[0.0,1.0],\"title\":{\"text\":\"name\"}},\"yaxis\":{\"anchor\":\"x\",\"domain\":[0.0,1.0],\"title\":{\"text\":\"max_price\"}},\"coloraxis\":{\"colorbar\":{\"title\":{\"text\":\"max_price\"}},\"colorscale\":[[0.0,\"White\"],[1.0,\"red\"]]},\"legend\":{\"tracegroupgap\":0},\"title\":{\"text\":\"20 most expensive players in all league (Maximum price in Million)\"},\"barmode\":\"relative\",\"height\":500,\"width\":1000},                        {\"responsive\": true}                    ).then(function(){\n",
       "                            \n",
       "var gd = document.getElementById('7b37ac6a-0caa-4daa-964e-f5aad1cdbd20');\n",
       "var x = new MutationObserver(function (mutations, observer) {{\n",
       "        var display = window.getComputedStyle(gd).display;\n",
       "        if (!display || display === 'none') {{\n",
       "            console.log([gd, 'removed!']);\n",
       "            Plotly.purge(gd);\n",
       "            observer.disconnect();\n",
       "        }}\n",
       "}});\n",
       "\n",
       "// Listen for the removal of the full notebook cells\n",
       "var notebookContainer = gd.closest('#notebook-container');\n",
       "if (notebookContainer) {{\n",
       "    x.observe(notebookContainer, {childList: true});\n",
       "}}\n",
       "\n",
       "// Listen for the clearing of the current output cell\n",
       "var outputEl = gd.closest('.output');\n",
       "if (outputEl) {{\n",
       "    x.observe(outputEl, {childList: true});\n",
       "}}\n",
       "\n",
       "                        })                };                });            </script>        </div>"
      ]
     },
     "metadata": {},
     "output_type": "display_data"
    }
   ],
   "source": [
    "fig = px.bar(df_exp, x = 'name' ,y = 'max_price', title = '20 most expensive players in all league (Maximum price in Million)', width= 1000,\n",
    "    height= 500,\n",
    "    template='plotly_dark',\n",
    "    color='max_price',\n",
    "    color_continuous_scale=['White', 'red'] )\n",
    "fig.show()"
   ]
  },
  {
   "cell_type": "markdown",
   "id": "4bb06ef8-0e5b-4aed-b045-2e81762def93",
   "metadata": {},
   "source": [
    "## 2. Which nationality has the most player in all league"
   ]
  },
  {
   "cell_type": "code",
   "execution_count": 120,
   "id": "c61b4133-6b48-4eeb-a0b1-745a141ea20c",
   "metadata": {},
   "outputs": [
    {
     "data": {
      "text/plain": [
       "nationality\n",
       "Spain               311\n",
       "Italy               201\n",
       "Germany             191\n",
       "France              117\n",
       "England             117\n",
       "Brazil               66\n",
       "Portugal             38\n",
       "Argentina  Italy     38\n",
       "Denmark              35\n",
       "Poland               33\n",
       "Name: count, dtype: int64"
      ]
     },
     "execution_count": 120,
     "metadata": {},
     "output_type": "execute_result"
    }
   ],
   "source": [
    "df['nationality'].value_counts()[0:10]"
   ]
  },
  {
   "cell_type": "code",
   "execution_count": 106,
   "id": "b543b0ae-0f3b-4e4c-8662-5f34c9f42ae6",
   "metadata": {},
   "outputs": [
    {
     "data": {
      "image/png": "[encoded data removed]",
      "text/plain": [
       "<Figure size 1000x500 with 1 Axes>"
      ]
     },
     "metadata": {},
     "output_type": "display_data"
    }
   ],
   "source": [
    "plt.figure(figsize=(10,5))\n",
    "plt.bar(list(df['nationality'].value_counts()[0:5].keys()),list(df['nationality'].value_counts()[0:5]),color=[\"blue\",\"green\",\"red\",\"gray\",\"yellow\"])\n",
    "plt.show() "
   ]
  },
  {
   "cell_type": "markdown",
   "id": "1ec2fa72-dea0-42f9-8ef6-bd0aa2b8ec03",
   "metadata": {},
   "source": [
    "## Summary"
   ]
  },
  {
   "cell_type": "raw",
   "id": "45eb1f9b-673c-41e3-aeb4-d232c74313f8",
   "metadata": {},
   "source": [
    "1. According to my study, The most expensive player in all league is \"Kevin Debrune\", with a maximum price of 150 Million\n",
    "2. My study as shown me that the nationality that has most of player in all league are Spainish people."
   ]
  }
 ],
 "metadata": {
  "kernelspec": {
   "display_name": "Python 3 (ipykernel)",
   "language": "python",
   "name": "python3"
  },
  "language_info": {
   "codemirror_mode": {
    "name": "ipython",
    "version": 3
   },
   "file_extension": ".py",
   "mimetype": "text/x-python",
   "name": "python",
   "nbconvert_exporter": "python",
   "pygments_lexer": "ipython3",
   "version": "3.12.4"
  }
 },
 "nbformat": 4,
 "nbformat_minor": 5
}
